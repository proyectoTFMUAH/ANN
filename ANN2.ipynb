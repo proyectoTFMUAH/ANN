{
  "nbformat": 4,
  "nbformat_minor": 0,
  "metadata": {
    "colab": {
      "name": "ANN2.ipynb",
      "provenance": [],
      "collapsed_sections": [],
      "authorship_tag": "ABX9TyNq30pmRz/b06/bR5V5lzX+",
      "include_colab_link": true
    },
    "kernelspec": {
      "name": "python3",
      "display_name": "Python 3"
    }
  },
  "cells": [
    {
      "cell_type": "markdown",
      "metadata": {
        "id": "view-in-github",
        "colab_type": "text"
      },
      "source": [
        "<a href=\"https://colab.research.google.com/github/proyectoTFMUAH/ANN/blob/main/ANN2.ipynb\" target=\"_parent\"><img src=\"https://colab.research.google.com/assets/colab-badge.svg\" alt=\"Open In Colab\"/></a>"
      ]
    },
    {
      "cell_type": "code",
      "metadata": {
        "colab": {
          "resources": {
            "http://localhost:8080/nbextensions/google.colab/files.js": {
              "data": "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",
              "ok": true,
              "headers": [
                [
                  "content-type",
                  "application/javascript"
                ]
              ],
              "status": 200,
              "status_text": ""
            }
          },
          "base_uri": "https://localhost:8080/",
          "height": 72
        },
        "id": "OTCyHcXDYzHR",
        "outputId": "5ab10430-256a-41e1-b181-6646f3c8f3cd"
      },
      "source": [
        "#chuleta\r\n",
        "\r\n",
        "#https://www.datacamp.com/community/tutorials/deep-learning-python?utm_campaignid=282657555&utm_adgroupid=1147890695096458&utm_device=c&utm_keyword=keras&utm_matchtype=p&utm_network=o&utm_adpostion=&utm_creative=&utm_targetid=kwd-71743615746804:loc-170&utm_loc_interest_ms=&utm_loc_physical_ms=3203&msclkid=38ccf3d9b04f1045ba9093f9f9c73036&utm_source=bing&utm_medium=cpc&utm_campaign=NEW%20Granular%20Topics%20(via%20DSA%20insights)%20%7C%20Tier%201%20BING&utm_term=keras&utm_content=community%2Ftutorials%2Fdeep-learning-python\r\n",
        "# https://www.tensorflow.org/tutorials/load_data/csv\r\n",
        "\r\n",
        "#Cargamos librerias\r\n",
        "\r\n",
        "import tensorflow as tf\r\n",
        "import pandas as pd\r\n",
        "import numpy as np\r\n",
        "import tensorflow as tf\r\n",
        "from tensorflow.keras import layers\r\n",
        "from tensorflow.keras.layers.experimental import preprocessing\r\n",
        "\r\n",
        "\r\n",
        "# Capamos a 3 decimales\r\n",
        "np.set_printoptions(precision=3, suppress=True)\r\n",
        "\r\n",
        "#Cargamos el Dataset desde fichero que hemos generado en R\r\n",
        "from google.colab import files\r\n",
        "def getLocalFiles():\r\n",
        "    _files = files.upload()\r\n",
        "    if len(_files) >0:\r\n",
        "       for k,v in _files.items():\r\n",
        "         open(k,'wb').write(v)\r\n",
        "getLocalFiles()\r\n",
        "\r\n"
      ],
      "execution_count": null,
      "outputs": [
        {
          "output_type": "display_data",
          "data": {
            "text/html": [
              "\n",
              "     <input type=\"file\" id=\"files-59c9b413-5bfd-445b-8df9-22e3b5e8f881\" name=\"files[]\" multiple disabled\n",
              "        style=\"border:none\" />\n",
              "     <output id=\"result-59c9b413-5bfd-445b-8df9-22e3b5e8f881\">\n",
              "      Upload widget is only available when the cell has been executed in the\n",
              "      current browser session. Please rerun this cell to enable.\n",
              "      </output>\n",
              "      <script src=\"/nbextensions/google.colab/files.js\"></script> "
            ],
            "text/plain": [
              "<IPython.core.display.HTML object>"
            ]
          },
          "metadata": {
            "tags": []
          }
        },
        {
          "output_type": "stream",
          "text": [
            "Saving DSEuropea.csv to DSEuropea (1).csv\n"
          ],
          "name": "stdout"
        }
      ]
    },
    {
      "cell_type": "code",
      "metadata": {
        "id": "mGIhc1Ex0VeQ"
      },
      "source": [
        ""
      ],
      "execution_count": null,
      "outputs": []
    },
    {
      "cell_type": "code",
      "metadata": {
        "colab": {
          "base_uri": "https://localhost:8080/",
          "height": 197
        },
        "id": "P2fAUp64DtS0",
        "outputId": "4052b1b7-2785-47a8-f727-a86be2a0e19c"
      },
      "source": [
        "#rrevisamos los datos\r\n",
        "Pricing_train = pd.read_csv('DSEuropea.csv')\r\n",
        "Pricing_train.head()"
      ],
      "execution_count": null,
      "outputs": [
        {
          "output_type": "execute_result",
          "data": {
            "text/html": [
              "<div>\n",
              "<style scoped>\n",
              "    .dataframe tbody tr th:only-of-type {\n",
              "        vertical-align: middle;\n",
              "    }\n",
              "\n",
              "    .dataframe tbody tr th {\n",
              "        vertical-align: top;\n",
              "    }\n",
              "\n",
              "    .dataframe thead th {\n",
              "        text-align: right;\n",
              "    }\n",
              "</style>\n",
              "<table border=\"1\" class=\"dataframe\">\n",
              "  <thead>\n",
              "    <tr style=\"text-align: right;\">\n",
              "      <th></th>\n",
              "      <th>Unnamed: 0</th>\n",
              "      <th>vSt</th>\n",
              "      <th>vK</th>\n",
              "      <th>vTmat</th>\n",
              "      <th>vvol</th>\n",
              "      <th>vr</th>\n",
              "      <th>Unnamed: 6</th>\n",
              "    </tr>\n",
              "  </thead>\n",
              "  <tbody>\n",
              "    <tr>\n",
              "      <th>0</th>\n",
              "      <td>1</td>\n",
              "      <td>19.019752</td>\n",
              "      <td>85.864971</td>\n",
              "      <td>53.803172</td>\n",
              "      <td>0.464357</td>\n",
              "      <td>0.057253</td>\n",
              "      <td>18.307547</td>\n",
              "    </tr>\n",
              "    <tr>\n",
              "      <th>1</th>\n",
              "      <td>2</td>\n",
              "      <td>69.475322</td>\n",
              "      <td>25.618889</td>\n",
              "      <td>80.115425</td>\n",
              "      <td>0.511415</td>\n",
              "      <td>0.094931</td>\n",
              "      <td>69.469906</td>\n",
              "    </tr>\n",
              "    <tr>\n",
              "      <th>2</th>\n",
              "      <td>3</td>\n",
              "      <td>64.124547</td>\n",
              "      <td>30.302197</td>\n",
              "      <td>9.591628</td>\n",
              "      <td>0.078536</td>\n",
              "      <td>0.070882</td>\n",
              "      <td>48.770954</td>\n",
              "    </tr>\n",
              "    <tr>\n",
              "      <th>3</th>\n",
              "      <td>4</td>\n",
              "      <td>76.219773</td>\n",
              "      <td>28.674030</td>\n",
              "      <td>7.460327</td>\n",
              "      <td>0.046091</td>\n",
              "      <td>0.054959</td>\n",
              "      <td>57.190492</td>\n",
              "    </tr>\n",
              "    <tr>\n",
              "      <th>4</th>\n",
              "      <td>5</td>\n",
              "      <td>60.074539</td>\n",
              "      <td>78.835511</td>\n",
              "      <td>12.979597</td>\n",
              "      <td>0.096357</td>\n",
              "      <td>0.015567</td>\n",
              "      <td>6.578845</td>\n",
              "    </tr>\n",
              "  </tbody>\n",
              "</table>\n",
              "</div>"
            ],
            "text/plain": [
              "   Unnamed: 0        vSt         vK      vTmat      vvol        vr  Unnamed: 6\n",
              "0           1  19.019752  85.864971  53.803172  0.464357  0.057253   18.307547\n",
              "1           2  69.475322  25.618889  80.115425  0.511415  0.094931   69.469906\n",
              "2           3  64.124547  30.302197   9.591628  0.078536  0.070882   48.770954\n",
              "3           4  76.219773  28.674030   7.460327  0.046091  0.054959   57.190492\n",
              "4           5  60.074539  78.835511  12.979597  0.096357  0.015567    6.578845"
            ]
          },
          "metadata": {
            "tags": []
          },
          "execution_count": 6
        }
      ]
    },
    {
      "cell_type": "code",
      "metadata": {
        "colab": {
          "base_uri": "https://localhost:8080/"
        },
        "id": "w8dDxZp4Bt4u",
        "outputId": "2d8ddf36-eae8-48b8-b8dc-5e5529eb3516"
      },
      "source": [
        "#La tarea de este conjunto de datos es predecir el precio, así que separe las características y etiquetas para el entrenamiento:\r\n",
        "Pricing_train_features = Pricing_train.copy()\r\n",
        "#quitamos el indice y el resultado\r\n",
        "#resultado\r\n",
        "Pricing_train_results = Pricing_train_features.pop('Unnamed: 6')\r\n",
        "#indice\r\n",
        "Pricing_indices = Pricing_train_features.pop('Unnamed: 0')\r\n",
        "\r\n",
        "# Empaque las funciones en una sola matriz NumPy :\r\n",
        "Pricing_train_features = np.array(Pricing_train_features)\r\n",
        "Pricing_train_features\r\n",
        "\r\n",
        "print(Pricing_train_features.shape)\r\n"
      ],
      "execution_count": null,
      "outputs": [
        {
          "output_type": "stream",
          "text": [
            "(10000, 5)\n"
          ],
          "name": "stdout"
        }
      ]
    },
    {
      "cell_type": "code",
      "metadata": {
        "id": "g1icIZKrbQzo"
      },
      "source": [
        "\r\n",
        "#Sequential\r\n",
        "\r\n",
        "#https://keras.io/guides/sequential_model/\r\n",
        "from tensorflow import keras\r\n",
        "\r\n",
        "#define el modelo\r\n",
        "modelEuropeanoption = tf.keras.Sequential([\r\n",
        "  layers.Dense(10,activation='relu'),\r\n",
        "  layers.Dense(10,activation='relu'),\r\n",
        "  layers.Dense(10,activation='relu'),\r\n",
        "  layers.Dense(10,activation='relu'),\r\n",
        "  layers.Dense(1)\r\n",
        "])\r\n",
        "#compilar modelo\r\n",
        "modelEuropeanoption.compile(loss = tf.losses.MeanSquaredError(),\r\n",
        "                              metrics=['accuracy'],\r\n",
        "                      optimizer = tf.optimizers.Adam())\r\n",
        "\r\n",
        "# entrernar el modelo\r\n",
        "\r\n",
        "modelEuropeanoption.fit(Pricing_train_features, Pricing_train_results, epochs=500)\r\n",
        "\r\n",
        "#revisar modelo\r\n",
        "modelEuropeanoption.summary()\r\n",
        "len(modelEuropeanoption.weights)\r\n",
        "keras.utils.plot_model(modelEuropeanoption, show_shapes=True,show_dtype=True)"
      ],
      "execution_count": null,
      "outputs": []
    },
    {
      "cell_type": "code",
      "metadata": {
        "id": "oDonc-a3fOr4"
      },
      "source": [
        "#SAlvar el modleo y predicifr\r\n",
        "\r\n",
        "#https://www.machinecurve.com/index.php/2020/02/14/how-to-save-and-load-a-model-with-keras/#predictions-for-new-data\r\n",
        "#https://victorzhou.com/blog/keras-cnn-tutorial/\r\n",
        "\r\n",
        "prediction = modelEuropeanoption.predict(Pricing_train_features)\r\n",
        "\r\n",
        "# show the inputs and predicted outputs\r\n",
        "for i in range(len(Pricing_train_features)):\r\n",
        "\tprint(\"X=%s, Predicted=%s\" % (Pricing_train_features[i], prediction[i]))\r\n"
      ],
      "execution_count": null,
      "outputs": []
    },
    {
      "cell_type": "code",
      "metadata": {
        "colab": {
          "base_uri": "https://localhost:8080/"
        },
        "id": "A2ErAr4EY3K5",
        "outputId": "10dad43f-f1b6-4e52-99a8-680b07b0dcec"
      },
      "source": [
        "\r\n",
        "#Calculamos el error de los datos del training\r\n",
        "Pricing_train_results.head()\r\n",
        "\r\n",
        "MSEi=0\r\n",
        "for i in range(len(Pricing_train_results)):\r\n",
        "  MSEi=MSEi+(prediction[i]-Pricing_train_results[i])**2\r\n",
        "MSE=MSEi/len(Pricing_train_results)\r\n",
        "print(MSE)            \r\n",
        "\r\n",
        "MDi=0\r\n",
        "for i in range(len(Pricing_train_results)):\r\n",
        "  MDi=MDi+(prediction[i]-Pricing_train_results[i])\r\n",
        "MD=MDi/len(Pricing_train_results)\r\n",
        "print(MD)            \r\n",
        "\r\n",
        "MADi=0\r\n",
        "for i in range(len(Pricing_train_results)):\r\n",
        "  MADi=MADi+abs ((prediction[i]-Pricing_train_results[i]))\r\n",
        "MAD=MADi/len(Pricing_train_results)\r\n",
        "print(MAD)   \r\n",
        "\r\n",
        "#MAPEi=0\r\n",
        "#tmuestra=len(Pricing_train_results)\r\n",
        "#for i in range(len(Pricing_train_results)):\r\n",
        " #   if Pricing_train_results[i] > 0:\r\n",
        "  #    MAPEi=MAPEi+abs ((prediction[i]-Pricing_train_results[i]))/Pricing_train_results[i]\r\n",
        " #   else:\r\n",
        " #     tmuestra=tmuestra-1  \r\n",
        "#MAPEi=MAPEi/tmuestra\r\n",
        "#print(MAPEi)   \r\n",
        "\r\n",
        "\r\n",
        "from sklearn.metrics import r2_score \r\n",
        "R_square = r2_score(prediction,Pricing_train_results) \r\n",
        "print('Coefficient of Determination', R_square) \r\n",
        "\r\n"
      ],
      "execution_count": null,
      "outputs": [
        {
          "output_type": "stream",
          "text": [
            "[0.17]\n",
            "[-0.008]\n",
            "[0.239]\n",
            "Coefficient of Determination 0.9997988368008145\n"
          ],
          "name": "stdout"
        }
      ]
    },
    {
      "cell_type": "code",
      "metadata": {
        "id": "8kbjQzPW9ZRE",
        "colab": {
          "base_uri": "https://localhost:8080/",
          "height": 197
        },
        "outputId": "8685063a-78be-43b1-ebc6-a70df9002108"
      },
      "source": [
        "modelEuropeanoption.save('model')\r\n",
        "from google.colab import files\r\n",
        "files.download('model')"
      ],
      "execution_count": 6,
      "outputs": [
        {
          "output_type": "error",
          "ename": "NameError",
          "evalue": "ignored",
          "traceback": [
            "\u001b[0;31m---------------------------------------------------------------------------\u001b[0m",
            "\u001b[0;31mNameError\u001b[0m                                 Traceback (most recent call last)",
            "\u001b[0;32m<ipython-input-6-0b5344acf64c>\u001b[0m in \u001b[0;36m<module>\u001b[0;34m()\u001b[0m\n\u001b[0;32m----> 1\u001b[0;31m \u001b[0mmodelEuropeanoption\u001b[0m\u001b[0;34m.\u001b[0m\u001b[0msave\u001b[0m\u001b[0;34m(\u001b[0m\u001b[0;34m'model'\u001b[0m\u001b[0;34m)\u001b[0m\u001b[0;34m\u001b[0m\u001b[0;34m\u001b[0m\u001b[0m\n\u001b[0m\u001b[1;32m      2\u001b[0m \u001b[0;32mfrom\u001b[0m \u001b[0mgoogle\u001b[0m\u001b[0;34m.\u001b[0m\u001b[0mcolab\u001b[0m \u001b[0;32mimport\u001b[0m \u001b[0mfiles\u001b[0m\u001b[0;34m\u001b[0m\u001b[0;34m\u001b[0m\u001b[0m\n\u001b[1;32m      3\u001b[0m \u001b[0mfiles\u001b[0m\u001b[0;34m.\u001b[0m\u001b[0mdownload\u001b[0m\u001b[0;34m(\u001b[0m\u001b[0;34m'model'\u001b[0m\u001b[0;34m)\u001b[0m\u001b[0;34m\u001b[0m\u001b[0;34m\u001b[0m\u001b[0m\n",
            "\u001b[0;31mNameError\u001b[0m: name 'modelEuropeanoption' is not defined"
          ]
        }
      ]
    },
    {
      "cell_type": "code",
      "metadata": {
        "id": "v3uoYLjXkW8W"
      },
      "source": [
        "#Calculamos el dato del set de test \r\n",
        "\r\n",
        "#Cargamos el Dataset desde fichero que hemos generado en R\r\n",
        "from google.colab import files\r\n",
        "def getLocalFiles():\r\n",
        "    _files = files.upload()\r\n",
        "    if len(_files) >0:\r\n",
        "       for k,v in _files.items():\r\n",
        "         open(k,'wb').write(v)\r\n",
        "getLocalFiles()\r\n",
        "\r\n",
        "Pricing_test= pd.read_csv('TestDSEuropea.csv')\r\n",
        "Pricing_test_features = Pricing_test.copy()\r\n",
        "#quitamos el indice y el resultado\r\n",
        "#resultado\r\n",
        "Pricing_test_results = Pricing_test_features.pop('Unnamed: 6')\r\n",
        "#indice\r\n",
        "Pricing_test_indices = Pricing_test_features.pop('Unnamed: 0')\r\n",
        "\r\n",
        "# Empaque las funciones en una sola matriz NumPy :\r\n",
        "\r\n",
        "Pricing_test_features = np.array(Pricing_test_features)\r\n",
        "\r\n",
        "prediction = modelEuropeanoption.predict(Pricing_test_features)\r\n",
        "\r\n",
        "#Calculamos el error de los datos del training\r\n",
        "Pricing_test_results.head()\r\n",
        "\r\n",
        "MSEi=0\r\n",
        "for i in range(len(Pricing_test_results)):\r\n",
        "  MSEi=MSEi+(prediction[i]-Pricing_test_results[i])**2\r\n",
        "MSE=MSEi/len(Pricing_test_results)\r\n",
        "print(MSE)            \r\n",
        "\r\n",
        "MDi=0\r\n",
        "for i in range(len(Pricing_test_results)):\r\n",
        "  MDi=MDi+(prediction[i]-Pricing_test_results[i])\r\n",
        "MD=MDi/len(Pricing_test_results)\r\n",
        "print(MD)            \r\n",
        "\r\n",
        "MADi=0\r\n",
        "for i in range(len(Pricing_test_results)):\r\n",
        "  MADi=MADi+abs ((prediction[i]-Pricing_test_results[i]))\r\n",
        "MAD=MADi/len(Pricing_test_results)\r\n",
        "print(MAD)   \r\n",
        "\r\n",
        "#MAPEi=0\r\n",
        "#tmuestra=len(Pricing_test_results)\r\n",
        "#for i in range(len(Pricing_test_results)):\r\n",
        " #   if Pricing_test_results[i] > 0:\r\n",
        "  #    MAPEi=MAPEi+abs ((prediction[i]-Pricing_test_results[i]))/Pricing_test_results[i]\r\n",
        " #   else:\r\n",
        " #     tmuestra=tmuestra-1  \r\n",
        "#MAPEi=MAPEi/tmuestra\r\n",
        "#print(MAPEi)   \r\n",
        "\r\n",
        "\r\n",
        "from sklearn.metrics import r2_score \r\n",
        "R_square = r2_score(prediction,Pricing_test_results) \r\n",
        "print('Coefficient of Determination', R_square) "
      ],
      "execution_count": null,
      "outputs": []
    }
  ]
}